{
 "cells": [
  {
   "cell_type": "code",
   "execution_count": 20,
   "id": "7c2bfb85",
   "metadata": {},
   "outputs": [
    {
     "name": "stdout",
     "output_type": "stream",
     "text": [
      "nietsledE nosaJ\n",
      "nietsledE nosaJ\n",
      "CONCEPTS IN COMPUTER PROGRAMMINGJASON EDELSTEIN\n"
     ]
    },
    {
     "data": {
      "text/plain": [
       "'CNET NCMUE RGAMNJSNEESEN'"
      ]
     },
     "execution_count": 20,
     "metadata": {},
     "output_type": "execute_result"
    }
   ],
   "source": [
    "classname = \"Concepts in Computer Programming\"\n",
    "instructorname = \"Jason Edelstein\"\n",
    "\n",
    "\"\"\"Write the following code:\n",
    "a. Print the reverse of instructorname in two different ways. Explain why each way you\n",
    "chose works.\n",
    "b. Combine classname and instructorname together and print it in all capital letters.\n",
    "c. Delete every second letter of the combined string in b and print that value.\"\"\"\n",
    "\n",
    "# a functions because im using indexing brackets thats spitting out the order in which is reverse, in this case negative 1 to start.\n",
    "reverse_a = instructorname[::-1]\n",
    "\n",
    "\n",
    "#a2 way it works is its using defining functioning so that it loops backk from itself while reordering letters to the front from back .\n",
    "\n",
    "def reverse(s):\n",
    "\tstring1 = \"\"\n",
    "\tfor i in s:\n",
    "\t\tstring1 = i + string1\n",
    "\treturn string1\n",
    "\n",
    "reverse_a2 = reverse(instructorname)\n",
    "\n",
    "print(reverse_a)\n",
    "print(reverse_a2)\n",
    "\n",
    "#B  used funtion upper in print to capitalize my names \n",
    "name = classname+instructorname\n",
    "print(name.upper())\n",
    "\n",
    "#c used the first #A example and combined it with the #B example which created #C \n",
    "\n",
    "(name.upper()) [0::2]\n"
   ]
  },
  {
   "cell_type": "code",
   "execution_count": 29,
   "id": "2621d00e",
   "metadata": {},
   "outputs": [
    {
     "name": "stdout",
     "output_type": "stream",
     "text": [
      "0b1000010\n",
      "0x42\n",
      "0b101101\n",
      "0x2d\n",
      "0b10111\n",
      "0x17\n"
     ]
    }
   ],
   "source": [
    "#Choose three numeric variables of any type and name them appropriately.\n",
    "\"\"\"\"Write the following Python code showing each step and with appropriate comments:\n",
    "a) Convert the three numbers to binary format and print the result.\n",
    "b) Convert the three numbers to hexadecimal and print the result\"\"\"\n",
    "\n",
    "#A used functions for both binary (bin) and hexadicimal (hex)while also using my indexing to provide my results \n",
    "\n",
    "numberlist= [66,45,23]\n",
    "for number in numberlist:\n",
    "    print(bin(number)[0:])\n",
    "    print(hex(number)[0:])\n",
    "\n"
   ]
  },
  {
   "cell_type": "code",
   "execution_count": null,
   "id": "7555eda2",
   "metadata": {
    "scrolled": true
   },
   "outputs": [],
   "source": [
    "# purpose of this code is defining when a number is (special or not special).\n",
    "# what we did is rename certian operations and gave a range to compute answers which resulted in eveyrthing is not special \n",
    "\n",
    "for i in range (10000000000):\n",
    "    if i %4 == 0 and i %100 != 0: # 4, 8, 16, 104\n",
    "        if i % 400 == 0:\n",
    "            print(str(i)+ \" is special.\")\n",
    "    else:\n",
    "        print(str(i)+ \" is not special.\")\n",
    "                  \n"
   ]
  },
  {
   "cell_type": "code",
   "execution_count": null,
   "id": "f1d9e9bc",
   "metadata": {},
   "outputs": [],
   "source": [
    "n = 104\n",
    "print(n %4)\n",
    "print(n %100)"
   ]
  },
  {
   "cell_type": "code",
   "execution_count": 12,
   "id": "ab4e1525",
   "metadata": {},
   "outputs": [
    {
     "name": "stdout",
     "output_type": "stream",
     "text": [
      "93326215443944152681699238856266700490715968264381621468592963895217599993229915608941463976156518286253697920827223758251185210916864000000000000000000000000\n"
     ]
    }
   ],
   "source": [
    "# \"Using Python code, write two different ways to calculate the product of all integers from 1 to 100\"\n",
    "sum = 1\n",
    "for i in range(1, 101):\n",
    "    sum = sum * i\n",
    "print(sum)\n"
   ]
  },
  {
   "cell_type": "code",
   "execution_count": 13,
   "id": "f17ecf53",
   "metadata": {},
   "outputs": [
    {
     "name": "stdout",
     "output_type": "stream",
     "text": [
      "93326215443944152681699238856266700490715968264381621468592963895217599993229915608941463976156518286253697920827223758251185210916864000000000000000000000000\n"
     ]
    }
   ],
   "source": [
    "numbers = range(1, 101)\n",
    "def sum(numbers):\n",
    "    total = 1\n",
    "    for x in numbers:\n",
    "        total *= x\n",
    "    return total\n",
    "print(sum(numbers))\n"
   ]
  },
  {
   "cell_type": "code",
   "execution_count": null,
   "id": "d09a7ad6",
   "metadata": {},
   "outputs": [],
   "source": []
  },
  {
   "cell_type": "code",
   "execution_count": null,
   "id": "93585c25",
   "metadata": {},
   "outputs": [],
   "source": []
  }
 ],
 "metadata": {
  "kernelspec": {
   "display_name": "Python 3 (ipykernel)",
   "language": "python",
   "name": "python3"
  },
  "language_info": {
   "codemirror_mode": {
    "name": "ipython",
    "version": 3
   },
   "file_extension": ".py",
   "mimetype": "text/x-python",
   "name": "python",
   "nbconvert_exporter": "python",
   "pygments_lexer": "ipython3",
   "version": "3.9.13"
  }
 },
 "nbformat": 4,
 "nbformat_minor": 5
}
